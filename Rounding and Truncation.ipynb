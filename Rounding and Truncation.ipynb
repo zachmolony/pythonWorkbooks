{
 "cells": [
  {
   "cell_type": "markdown",
   "metadata": {},
   "source": [
    "### Rounding vs Truncation\n",
    "\n",
    "To round in python, you can use the round() function to round a float to a desired length.\n",
    "\n",
    "It is used like in the following: \n",
    "\n",
    "```\n",
    "round(variable, decimalPlaces)\n",
    "```\n",
    "\n",
    "Where decimal places is an integer and variable type is a float."
   ]
  },
  {
   "cell_type": "code",
   "execution_count": 1,
   "metadata": {},
   "outputs": [],
   "source": [
    "num = float(23.589777777778)"
   ]
  },
  {
   "cell_type": "code",
   "execution_count": 2,
   "metadata": {},
   "outputs": [
    {
     "name": "stdout",
     "output_type": "stream",
     "text": [
      "23.59\n"
     ]
    }
   ],
   "source": [
    "num = round(num, 2)\n",
    "print(num)"
   ]
  },
  {
   "cell_type": "markdown",
   "metadata": {},
   "source": [
    "Truncation is not a function in python, but effectively discards the any digits after the decimal point. It will always round to the nearest integer toward zero. The only reason to use truncation over rounding to an integer is if you are specifically rounding down, as truncation is marginally more efficient than rounding.\n",
    "\n",
    "Truncation can be done using the following:"
   ]
  },
  {
   "cell_type": "code",
   "execution_count": 54,
   "metadata": {},
   "outputs": [],
   "source": [
    "#bear in mind the 5 is the length of the whole number, not just those after the decimal place\n",
    "def trunc1(num, dig):\n",
    "    return float(str(num)[:dig])"
   ]
  },
  {
   "cell_type": "code",
   "execution_count": 55,
   "metadata": {},
   "outputs": [
    {
     "data": {
      "text/plain": [
       "23.58"
      ]
     },
     "execution_count": 55,
     "metadata": {},
     "output_type": "execute_result"
    }
   ],
   "source": [
    "trunc1(23.589777777778, 5)"
   ]
  },
  {
   "cell_type": "code",
   "execution_count": 58,
   "metadata": {},
   "outputs": [],
   "source": [
    "def truncate(num, dig):\n",
    "    l = str(num).split(\".\")\n",
    "    return float(l[0] + \".\" + str(l[1][:dig]))"
   ]
  },
  {
   "cell_type": "code",
   "execution_count": 57,
   "metadata": {},
   "outputs": [
    {
     "data": {
      "text/plain": [
       "23.58977"
      ]
     },
     "execution_count": 57,
     "metadata": {},
     "output_type": "execute_result"
    }
   ],
   "source": [
    "truncate(23.589777777778, 5)"
   ]
  }
 ],
 "metadata": {
  "kernelspec": {
   "display_name": "Python 3",
   "language": "python",
   "name": "python3"
  },
  "language_info": {
   "codemirror_mode": {
    "name": "ipython",
    "version": 3
   },
   "file_extension": ".py",
   "mimetype": "text/x-python",
   "name": "python",
   "nbconvert_exporter": "python",
   "pygments_lexer": "ipython3",
   "version": "3.5.2"
  }
 },
 "nbformat": 4,
 "nbformat_minor": 2
}
