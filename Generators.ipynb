{
 "cells": [
  {
   "cell_type": "markdown",
   "metadata": {},
   "source": [
    "## Generators\n",
    "\n",
    "A generator provides a way to create a sequence of values in Python. It is similar to the range() function, but a generator allows you to create any sequence you want.\n",
    "\n",
    "A generator is a lazy operation - it creates the sequence of values one by one, as they are needed."
   ]
  },
  {
   "cell_type": "code",
   "execution_count": 1,
   "metadata": {},
   "outputs": [],
   "source": [
    "def powers(max):\n",
    "    x = 1\n",
    "    while x < max:\n",
    "        yield x\n",
    "        x *= 2"
   ]
  },
  {
   "cell_type": "markdown",
   "metadata": {},
   "source": [
    "We can tell this is a generator as it has a ```yeild``` statement, rather than a ```return``` statement.\n",
    "\n",
    "```Yeild``` is similar to ```return```, as it returns a value, but it also stores the state of all the variables inside the function. When access the generator again, it starts from where it left off, and generates another value the next time it hits yield.\n",
    "\n",
    "So in this case, the first time ```powers()``` is called, it sets x to 1, then enters the while loop. It then runs the ```yield x``` statement, and returns the value of 1.\n",
    "\n",
    "The second time, the ```powers()``` function starts immediately after the ```yield``` statement. It multiplies x by 2, and then loops round. Then it executes ```yield x``` again, but this time returns 2.\n",
    "\n",
    "The third time, again, the ```powers()``` function starts immediately after the ```yield``` statement. It remembers that ```x``` is now equal to 2. Once again it multiplies ```x``` by 2, and then loops round. Then it executes ```yield x``` again, and this time returns 4.\n",
    "\n",
    "This continues while ```x``` is less than max, at which point the loop exits."
   ]
  },
  {
   "cell_type": "code",
   "execution_count": 2,
   "metadata": {},
   "outputs": [
    {
     "data": {
      "text/plain": [
       "<generator object powers at 0x7fe7d412cd00>"
      ]
     },
     "execution_count": 2,
     "metadata": {},
     "output_type": "execute_result"
    }
   ],
   "source": [
    "powers(65)"
   ]
  },
  {
   "cell_type": "markdown",
   "metadata": {},
   "source": [
    "http://wiki.schoolcoders.com/coding-in-python/intermediate-python/generators/"
   ]
  },
  {
   "cell_type": "code",
   "execution_count": null,
   "metadata": {},
   "outputs": [],
   "source": []
  }
 ],
 "metadata": {
  "kernelspec": {
   "display_name": "Python 3",
   "language": "python",
   "name": "python3"
  },
  "language_info": {
   "codemirror_mode": {
    "name": "ipython",
    "version": 3
   },
   "file_extension": ".py",
   "mimetype": "text/x-python",
   "name": "python",
   "nbconvert_exporter": "python",
   "pygments_lexer": "ipython3",
   "version": "3.5.2"
  }
 },
 "nbformat": 4,
 "nbformat_minor": 2
}
