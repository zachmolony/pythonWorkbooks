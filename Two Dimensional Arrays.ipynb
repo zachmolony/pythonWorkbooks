{
 "cells": [
  {
   "cell_type": "markdown",
   "metadata": {},
   "source": [
    "## 2 Dimensional Arrays\n",
    "\n",
    "A data structure, essentially a list of lists.\n",
    "\n",
    "Lists are just pointers which means when manipulating them within a loop, you need to redefine them, otherwise it will use the first defined one, rather than the modified one."
   ]
  },
  {
   "cell_type": "code",
   "execution_count": 2,
   "metadata": {},
   "outputs": [
    {
     "name": "stdout",
     "output_type": "stream",
     "text": [
      "['0', '1', '2', '3', '4', '5', '6', '7', '8', '9']\n",
      "[['0', '1', '2', '3', '4', '5', '6', '7', '8', '9'], ['0', '1', '2', '3', '4', '5', '6', '7', '8', '9'], ['0', '1', '2', '3', '4', '5', '6', '7', '8', '9']]\n"
     ]
    }
   ],
   "source": [
    "import string\n",
    "nums= list(string.digits) \n",
    "print(nums)\n",
    "grid=[]\n",
    "for i in range(3):\n",
    "   grid.append(nums)\n",
    "print(grid)"
   ]
  },
  {
   "cell_type": "code",
   "execution_count": 6,
   "metadata": {},
   "outputs": [
    {
     "name": "stdout",
     "output_type": "stream",
     "text": [
      "0|1|2|3|4|5|6|7|8|9|\n",
      "0|1|2|3|4|5|6|7|8|9|\n",
      "0|1|2|3|4|5|6|7|8|9|\n"
     ]
    }
   ],
   "source": [
    "for row in grid:\n",
    "    for colItem in row:\n",
    "        print (colItem, end=\"|\")\n",
    "    print()"
   ]
  },
  {
   "cell_type": "code",
   "execution_count": 31,
   "metadata": {},
   "outputs": [
    {
     "name": "stdout",
     "output_type": "stream",
     "text": [
      "4|1|3|6|0|8|3|4|2|9|2|5|9|4|2|7|5|2|4|1|0|5|9|0|9|7|7|1|8|6|3|8|9|9|7|4|6|2|9|2|6|9|5|2|6|7|5|2|9|1|2|2|9|1|4|5|1|5|1|8|4|9|3|6|6|3|1|2|5|4|4|6|3|5|8|9|2|2|4|8|9|5|3|5|1|9|5|9|8|2|2|2|0|3|4|5|1|3|9|4|\n",
      "4|1|3|6|0|8|3|4|2|9|2|5|9|4|2|7|5|2|4|1|0|5|9|0|9|7|7|1|8|6|3|8|9|9|7|4|6|2|9|2|6|9|5|2|6|7|5|2|9|1|2|2|9|1|4|5|1|5|1|8|4|9|3|6|6|3|1|2|5|4|4|6|3|5|8|9|2|2|4|8|9|5|3|5|1|9|5|9|8|2|2|2|0|3|4|5|1|3|9|4|\n",
      "4|1|3|6|0|8|3|4|2|9|2|5|9|4|2|7|5|2|4|1|0|5|9|0|9|7|7|1|8|6|3|8|9|9|7|4|6|2|9|2|6|9|5|2|6|7|5|2|9|1|2|2|9|1|4|5|1|5|1|8|4|9|3|6|6|3|1|2|5|4|4|6|3|5|8|9|2|2|4|8|9|5|3|5|1|9|5|9|8|2|2|2|0|3|4|5|1|3|9|4|\n",
      "4|1|3|6|0|8|3|4|2|9|2|5|9|4|2|7|5|2|4|1|0|5|9|0|9|7|7|1|8|6|3|8|9|9|7|4|6|2|9|2|6|9|5|2|6|7|5|2|9|1|2|2|9|1|4|5|1|5|1|8|4|9|3|6|6|3|1|2|5|4|4|6|3|5|8|9|2|2|4|8|9|5|3|5|1|9|5|9|8|2|2|2|0|3|4|5|1|3|9|4|\n",
      "4|1|3|6|0|8|3|4|2|9|2|5|9|4|2|7|5|2|4|1|0|5|9|0|9|7|7|1|8|6|3|8|9|9|7|4|6|2|9|2|6|9|5|2|6|7|5|2|9|1|2|2|9|1|4|5|1|5|1|8|4|9|3|6|6|3|1|2|5|4|4|6|3|5|8|9|2|2|4|8|9|5|3|5|1|9|5|9|8|2|2|2|0|3|4|5|1|3|9|4|\n",
      "4|1|3|6|0|8|3|4|2|9|2|5|9|4|2|7|5|2|4|1|0|5|9|0|9|7|7|1|8|6|3|8|9|9|7|4|6|2|9|2|6|9|5|2|6|7|5|2|9|1|2|2|9|1|4|5|1|5|1|8|4|9|3|6|6|3|1|2|5|4|4|6|3|5|8|9|2|2|4|8|9|5|3|5|1|9|5|9|8|2|2|2|0|3|4|5|1|3|9|4|\n",
      "4|1|3|6|0|8|3|4|2|9|2|5|9|4|2|7|5|2|4|1|0|5|9|0|9|7|7|1|8|6|3|8|9|9|7|4|6|2|9|2|6|9|5|2|6|7|5|2|9|1|2|2|9|1|4|5|1|5|1|8|4|9|3|6|6|3|1|2|5|4|4|6|3|5|8|9|2|2|4|8|9|5|3|5|1|9|5|9|8|2|2|2|0|3|4|5|1|3|9|4|\n",
      "4|1|3|6|0|8|3|4|2|9|2|5|9|4|2|7|5|2|4|1|0|5|9|0|9|7|7|1|8|6|3|8|9|9|7|4|6|2|9|2|6|9|5|2|6|7|5|2|9|1|2|2|9|1|4|5|1|5|1|8|4|9|3|6|6|3|1|2|5|4|4|6|3|5|8|9|2|2|4|8|9|5|3|5|1|9|5|9|8|2|2|2|0|3|4|5|1|3|9|4|\n",
      "4|1|3|6|0|8|3|4|2|9|2|5|9|4|2|7|5|2|4|1|0|5|9|0|9|7|7|1|8|6|3|8|9|9|7|4|6|2|9|2|6|9|5|2|6|7|5|2|9|1|2|2|9|1|4|5|1|5|1|8|4|9|3|6|6|3|1|2|5|4|4|6|3|5|8|9|2|2|4|8|9|5|3|5|1|9|5|9|8|2|2|2|0|3|4|5|1|3|9|4|\n",
      "4|1|3|6|0|8|3|4|2|9|2|5|9|4|2|7|5|2|4|1|0|5|9|0|9|7|7|1|8|6|3|8|9|9|7|4|6|2|9|2|6|9|5|2|6|7|5|2|9|1|2|2|9|1|4|5|1|5|1|8|4|9|3|6|6|3|1|2|5|4|4|6|3|5|8|9|2|2|4|8|9|5|3|5|1|9|5|9|8|2|2|2|0|3|4|5|1|3|9|4|\n"
     ]
    }
   ],
   "source": [
    "##finding coordianates via nested for loops\n",
    "#row is a number, we are finding the index rather than the item\n",
    "for row in range(len(grid)):\n",
    "    #col will start at 0 and go till the length of each row (10) \n",
    "    for col in range(len(grid[row])):\n",
    "        print(grid[row][col], end=\"|\")\n",
    "    print()"
   ]
  },
  {
   "cell_type": "code",
   "execution_count": 11,
   "metadata": {},
   "outputs": [
    {
     "name": "stdout",
     "output_type": "stream",
     "text": [
      "['u', 'l', 'n', 't', 'y', 'e', 'q', 'x', 'r', 'l']\n"
     ]
    }
   ],
   "source": [
    "import string\n",
    "from random import choice\n",
    "grid = []\n",
    "for x in range(10):+++++++++++++++++++++++++++++++++++++++++++\n",
    "    \n",
    "    +\n",
    "    l = choice(list(string.ascii_lowercase))\n",
    "    grid.append(l)\n",
    "print(grid)"
   ]
  },
  {
   "cell_type": "markdown",
   "metadata": {},
   "source": [
    "### Excercises\n",
    "\n",
    "Create a 3 x 10 grid of random numbers. Hint: first create a list of 10 random numbers. Then append these to a grid. Do this 3 times"
   ]
  },
  {
   "cell_type": "code",
   "execution_count": 13,
   "metadata": {},
   "outputs": [
    {
     "name": "stdout",
     "output_type": "stream",
     "text": [
      "[['8', '9', '6', '4', '7', '0', '8', '5', '8', '2', '5', '3', '2', '9', '7', '3', '6', '4', '0', '2', '8', '1', '9', '1', '4', '2', '5', '3', '6', '5'], ['8', '9', '6', '4', '7', '0', '8', '5', '8', '2', '5', '3', '2', '9', '7', '3', '6', '4', '0', '2', '8', '1', '9', '1', '4', '2', '5', '3', '6', '5'], ['8', '9', '6', '4', '7', '0', '8', '5', '8', '2', '5', '3', '2', '9', '7', '3', '6', '4', '0', '2', '8', '1', '9', '1', '4', '2', '5', '3', '6', '5']]\n"
     ]
    }
   ],
   "source": [
    "grid = []\n",
    "numlist = []\n",
    "for x in range(3):\n",
    "    for x in range(10):\n",
    "        r = choice(list(string.digits))\n",
    "        numlist.append(r)\n",
    "    grid.append(numlist)\n",
    "print(grid)"
   ]
  },
  {
   "cell_type": "markdown",
   "metadata": {},
   "source": [
    "Write new code to create a 10x10 grid of randomly placed stars (*). If a cell does not have a star it contains a space"
   ]
  },
  {
   "cell_type": "code",
   "execution_count": 20,
   "metadata": {},
   "outputs": [],
   "source": [
    "starlist = [\"*\",\" \"]\n",
    "grid = []\n",
    "inlist = []\n",
    "for x in range(10):\n",
    "    for x in range(10):\n",
    "        r = choice(starlist)\n",
    "        inlist.append(r)\n",
    "    grid.append(inlist)\n",
    "print(grid)"
   ]
  },
  {
   "cell_type": "markdown",
   "metadata": {},
   "source": [
    "Create a 10x10 grid of random numbers. Calculate the \n",
    "- sum of each row and each column\n",
    "- average of each row and each column \n",
    "- Total of all the cells\n",
    "- Average of all the cells"
   ]
  },
  {
   "cell_type": "code",
   "execution_count": 27,
   "metadata": {},
   "outputs": [],
   "source": [
    "grid = []\n",
    "numlist = []\n",
    "for x in range(10):\n",
    "    for x in range(10):\n",
    "        r = choice(list(string.digits))\n",
    "        numlist.append(r)\n",
    "    grid.append(numlist)\n",
    "#print(grid)"
   ]
  },
  {
   "cell_type": "code",
   "execution_count": 34,
   "metadata": {},
   "outputs": [
    {
     "ename": "TypeError",
     "evalue": "unsupported operand type(s) for +=: 'int' and 'list'",
     "output_type": "error",
     "traceback": [
      "\u001b[0;31m---------------------------------------------------------------------------\u001b[0m",
      "\u001b[0;31mTypeError\u001b[0m                                 Traceback (most recent call last)",
      "\u001b[0;32m<ipython-input-34-24f0b03bfffe>\u001b[0m in \u001b[0;36m<module>\u001b[0;34m()\u001b[0m\n\u001b[1;32m      3\u001b[0m \u001b[0;32mfor\u001b[0m \u001b[0mrow\u001b[0m \u001b[0;32min\u001b[0m \u001b[0mrange\u001b[0m\u001b[0;34m(\u001b[0m\u001b[0;36m10\u001b[0m\u001b[0;34m)\u001b[0m\u001b[0;34m:\u001b[0m\u001b[0;34m\u001b[0m\u001b[0m\n\u001b[1;32m      4\u001b[0m     \u001b[0;32mfor\u001b[0m \u001b[0mcol\u001b[0m \u001b[0;32min\u001b[0m \u001b[0mrange\u001b[0m\u001b[0;34m(\u001b[0m\u001b[0;36m10\u001b[0m\u001b[0;34m)\u001b[0m\u001b[0;34m:\u001b[0m\u001b[0;34m\u001b[0m\u001b[0m\n\u001b[0;32m----> 5\u001b[0;31m         \u001b[0mcolsum\u001b[0m \u001b[0;34m+=\u001b[0m \u001b[0mgrid\u001b[0m\u001b[0;34m[\u001b[0m\u001b[0mcol\u001b[0m\u001b[0;34m]\u001b[0m\u001b[0;34m\u001b[0m\u001b[0m\n\u001b[0m",
      "\u001b[0;31mTypeError\u001b[0m: unsupported operand type(s) for +=: 'int' and 'list'"
     ]
    }
   ],
   "source": [
    "rowsum = 0\n",
    "colsum = 0\n",
    "for row in range(10):\n",
    "    for col in range(10):\n",
    "        colsum += grid[col]"
   ]
  },
  {
   "cell_type": "code",
   "execution_count": null,
   "metadata": {},
   "outputs": [],
   "source": []
  }
 ],
 "metadata": {
  "kernelspec": {
   "display_name": "Python 3",
   "language": "python",
   "name": "python3"
  },
  "language_info": {
   "codemirror_mode": {
    "name": "ipython",
    "version": 3
   },
   "file_extension": ".py",
   "mimetype": "text/x-python",
   "name": "python",
   "nbconvert_exporter": "python",
   "pygments_lexer": "ipython3",
   "version": "3.5.2"
  }
 },
 "nbformat": 4,
 "nbformat_minor": 2
}
