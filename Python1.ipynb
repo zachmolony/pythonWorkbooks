{
 "cells": [
  {
   "cell_type": "markdown",
   "metadata": {},
   "source": [
    "# PYTHON NOTEBOOK 1"
   ]
  },
  {
   "cell_type": "markdown",
   "metadata": {},
   "source": [
    "### Pushing to github repo:\n",
    "\n",
    "git add [filename] or [--all]\n",
    "  \n",
    "git commit -m \"[message]\"\n",
    "  \n",
    "git push\n",
    "\n",
    "### Markup\n",
    "\n",
    "use three tilde to denote code"
   ]
  },
  {
   "cell_type": "markdown",
   "metadata": {},
   "source": [
    "# Data manipulation\n",
    "\n",
    "concatanation of strings = \"hello\"+\"world\"\n",
    "\n",
    "you cannot add different data types\n",
    "\n",
    "strings can be repeated by only multiplying by integers"
   ]
  },
  {
   "cell_type": "code",
   "execution_count": 1,
   "metadata": {},
   "outputs": [
    {
     "data": {
      "text/plain": [
       "'wayowayowayo'"
      ]
     },
     "execution_count": 1,
     "metadata": {},
     "output_type": "execute_result"
    }
   ],
   "source": [
    "\"wayo\" * 3"
   ]
  },
  {
   "cell_type": "code",
   "execution_count": 2,
   "metadata": {},
   "outputs": [
    {
     "data": {
      "text/plain": [
       "'helloworld'"
      ]
     },
     "execution_count": 2,
     "metadata": {},
     "output_type": "execute_result"
    }
   ],
   "source": [
    "\"hello\"+\"world\""
   ]
  },
  {
   "cell_type": "markdown",
   "metadata": {},
   "source": [
    "# Mathematical Comparators\n",
    "  \n",
    "</> less than / greater than (when dealing with strings, the unicode of the letter is compared eg a < b)\n",
    "  \n",
    "!= not equal to \n",
    "  \n",
    "== is equal to \n",
    "  "
   ]
  },
  {
   "cell_type": "code",
   "execution_count": 7,
   "metadata": {},
   "outputs": [
    {
     "data": {
      "text/plain": [
       "False"
      ]
     },
     "execution_count": 7,
     "metadata": {},
     "output_type": "execute_result"
    }
   ],
   "source": [
    "2 > 3"
   ]
  },
  {
   "cell_type": "code",
   "execution_count": 8,
   "metadata": {},
   "outputs": [
    {
     "data": {
      "text/plain": [
       "True"
      ]
     },
     "execution_count": 8,
     "metadata": {},
     "output_type": "execute_result"
    }
   ],
   "source": [
    "2 != 5"
   ]
  },
  {
   "cell_type": "code",
   "execution_count": 9,
   "metadata": {},
   "outputs": [
    {
     "data": {
      "text/plain": [
       "True"
      ]
     },
     "execution_count": 9,
     "metadata": {},
     "output_type": "execute_result"
    }
   ],
   "source": [
    "\"a\" < \"b\""
   ]
  },
  {
   "cell_type": "code",
   "execution_count": 10,
   "metadata": {},
   "outputs": [
    {
     "data": {
      "text/plain": [
       "False"
      ]
     },
     "execution_count": 10,
     "metadata": {},
     "output_type": "execute_result"
    }
   ],
   "source": [
    "True == False"
   ]
  },
  {
   "cell_type": "markdown",
   "metadata": {
    "collapsed": true
   },
   "source": [
    "# Random number generating\n",
    "\n",
    "Python needs the random module to generate random numbers.\n",
    "\n",
    "randint creates a random integer "
   ]
  },
  {
   "cell_type": "code",
   "execution_count": null,
   "metadata": {
    "collapsed": true
   },
   "outputs": [],
   "source": [
    "from random import randint\n",
    "from random import randrange\n",
    "\n",
    "x = randint(1,10)\n",
    "\n",
    "print(x)"
   ]
  },
  {
   "cell_type": "markdown",
   "metadata": {},
   "source": [
    "randrange creates a number in the range (start, stop [step])\n",
    "\n",
    "[step] is the distance between the randomly generated numbers"
   ]
  },
  {
   "cell_type": "code",
   "execution_count": null,
   "metadata": {
    "collapsed": true
   },
   "outputs": [],
   "source": [
    "z = randrange(1,100,5)\n",
    "\n",
    "print(z)"
   ]
  },
  {
   "cell_type": "markdown",
   "metadata": {},
   "source": [
    "## Random dice roll"
   ]
  },
  {
   "cell_type": "code",
   "execution_count": 1,
   "metadata": {},
   "outputs": [
    {
     "name": "stdout",
     "output_type": "stream",
     "text": [
      "Press x to roll the dice: x\n",
      "4\n"
     ]
    }
   ],
   "source": [
    "from random import randint\n",
    "\n",
    "userInput = input(\"Press x to roll the dice: \")\n",
    "if userInput == \"x\":\n",
    "    roll = randint(1,6)\n",
    "    print(roll)"
   ]
  },
  {
   "cell_type": "markdown",
   "metadata": {},
   "source": [
    "# Escape codes\n",
    "\n",
    "\\b = backspace\n",
    "\n",
    "\\n = new line \n",
    "\n",
    "\\t = tab (four spaces)"
   ]
  },
  {
   "cell_type": "code",
   "execution_count": null,
   "metadata": {
    "collapsed": true
   },
   "outputs": [],
   "source": [
    "print(\"ayo chicken\\b mayo \")"
   ]
  },
  {
   "cell_type": "code",
   "execution_count": null,
   "metadata": {
    "collapsed": true
   },
   "outputs": [],
   "source": [
    "print(\"ayo chicken \\n mayo \")"
   ]
  },
  {
   "cell_type": "code",
   "execution_count": null,
   "metadata": {
    "collapsed": true
   },
   "outputs": [],
   "source": [
    "print(\"ayo chicken \\t mayo \")"
   ]
  },
  {
   "cell_type": "markdown",
   "metadata": {},
   "source": [
    "# Style \n",
    "\n",
    "Variables are written in camelCase\n",
    "\n",
    "Constants are written in ALL CAPS\n",
    "\n"
   ]
  },
  {
   "cell_type": "code",
   "execution_count": null,
   "metadata": {},
   "outputs": [
    {
     "name": "stdout",
     "output_type": "stream",
     "text": [
      "Guess the number between 1 and 10: 1\n",
      "Try again. \n"
     ]
    }
   ],
   "source": [
    "WINNUMBER = 5\n",
    "def guess():\n",
    "    userInput = int(input(\"Guess the number between 1 and 10: \"))\n",
    "    if userInput == WINNUMBER:\n",
    "        print(\"Correct. \")\n",
    "    else:\n",
    "        print(\"Try again. \")\n",
    "        guess()\n",
    "guess()"
   ]
  },
  {
   "cell_type": "markdown",
   "metadata": {
    "collapsed": true
   },
   "source": [
    "# Python Logical operators\n",
    "  \n",
    "and - both conditions must be true\n",
    "  \n",
    "or - one condition (or both) must be true\n",
    "  \n",
    "not - only applies to one condition. The opposite.\n",
    "  "
   ]
  },
  {
   "cell_type": "code",
   "execution_count": null,
   "metadata": {
    "collapsed": true
   },
   "outputs": [],
   "source": [
    "if userInput == 4 or userInput == 6:\n",
    "    print(\"Close, try again. \")"
   ]
  },
  {
   "cell_type": "code",
   "execution_count": null,
   "metadata": {
    "collapsed": true
   },
   "outputs": [],
   "source": [
    "name = input(\"Enter your name: \")\n",
    "age = int(input(\"Enter your age: \"))\n",
    "if name == \"Zach\" and age == 16:\n",
    "    print(\"ayy\")"
   ]
  },
  {
   "cell_type": "code",
   "execution_count": 16,
   "metadata": {},
   "outputs": [
    {
     "name": "stdout",
     "output_type": "stream",
     "text": [
      "What is your age? 1\n",
      "Are you with an adult? y/n n\n",
      "You cannot come in. \n"
     ]
    }
   ],
   "source": [
    "userAge = int(input(\"What is your age? \"))\n",
    "adult = input(\"Are you with an adult? y/n \")\n",
    "if userAge >= 18 or adult == \"y\":\n",
    "    print(\"You can come into the film. \")\n",
    "else:\n",
    "    print(\"You cannot come in. \")"
   ]
  },
  {
   "cell_type": "code",
   "execution_count": 20,
   "metadata": {},
   "outputs": [
    {
     "name": "stdout",
     "output_type": "stream",
     "text": [
      "Are you a boy? y/n n\n",
      "Do you like pizza? y/nn\n",
      "You cannot come in. \n"
     ]
    }
   ],
   "source": [
    "boy = input(\"Are you a boy? y/n \")\n",
    "pizza = input(\"Do you like pizza? y/n\")\n",
    "if boy == \"y\" and pizza == \"y\":\n",
    "    print(\"You can come to the party. \")\n",
    "else:\n",
    "    print(\"You cannot come in. \")"
   ]
  },
  {
   "cell_type": "code",
   "execution_count": 21,
   "metadata": {},
   "outputs": [
    {
     "name": "stdout",
     "output_type": "stream",
     "text": [
      "What is the temp? 18\n",
      "What is the % chance of rain? 90\n",
      "You should bring an umbrella. \n"
     ]
    }
   ],
   "source": [
    "temp = float(input(\"What is the temp? \"))\n",
    "rain = int(input(\"What is the % chance of rain? \"))\n",
    "if temp > 17 and rain > 79:\n",
    "    print(\"You should bring an umbrella. \")\n",
    "else:\n",
    "    print(\"Have a nice day. \")"
   ]
  },
  {
   "cell_type": "markdown",
   "metadata": {},
   "source": [
    " \n",
    " # The \"in\" operator\n",
    " \n",
    " This operator allows you to check the chars in a raw_input or data type against a pre-determined set of values."
   ]
  },
  {
   "cell_type": "code",
   "execution_count": 13,
   "metadata": {},
   "outputs": [
    {
     "name": "stdout",
     "output_type": "stream",
     "text": [
      "Please enter a char: g\n",
      "That was not valid.\n"
     ]
    }
   ],
   "source": [
    "validChars=\"1234567abc\"\n",
    "userIn = input(\"Please enter a char: \")\n",
    "if userIn not in validChars:\n",
    "    print(\"That was not valid.\")"
   ]
  },
  {
   "cell_type": "markdown",
   "metadata": {},
   "source": [
    "# Iteration\n",
    "\n",
    "Counting loops (for loop) - counts from 0\n",
    "Conditional loop (while loop) - keeps looping until the condition(s) is met\n",
    "\n",
    "\n",
    "\n",
    "Don't do this:\n",
    "\n",
    "```python\n",
    "while True:\n",
    "  \n",
    "    if (  ):\n",
    "        break\n",
    "```\n",
    "\n",
    "But you can do this\n",
    "\n",
    "```python\n",
    "for [variable] in range (start,stop,step):\n",
    "```\n",
    "\n",
    "**Tip: Use this to prevent massive lists:**\n",
    "\n",
    "```python\n",
    "print(variableName, end=\" \")\n",
    "```\n"
   ]
  },
  {
   "cell_type": "code",
   "execution_count": 7,
   "metadata": {},
   "outputs": [
    {
     "name": "stdout",
     "output_type": "stream",
     "text": [
      "1\n",
      "*\n",
      "2\n",
      "*\n",
      "3\n",
      "*\n",
      "4\n",
      "*\n",
      "5\n",
      "*\n",
      "6\n",
      "*\n",
      "7\n",
      "*\n",
      "8\n",
      "*\n",
      "9\n",
      "*\n",
      "10\n",
      "*\n"
     ]
    }
   ],
   "source": [
    "count = 1\n",
    "for x in range(1,11):\n",
    "    print(count)\n",
    "    print(\"*\")\n",
    "    count += 1"
   ]
  },
  {
   "cell_type": "code",
   "execution_count": 28,
   "metadata": {},
   "outputs": [
    {
     "name": "stdout",
     "output_type": "stream",
     "text": [
      "1 2 3 4 5 6 7 8 9 10 11 12 13 14 15 16 17 18 19 20 21 22 23 24 25 26 27 28 29 30 31 32 33 34 35 36 37 38 39 40 41 42 43 44 45 46 47 48 49 50 51 52 53 54 55 56 57 58 59 60 61 62 63 64 65 66 67 68 69 70 71 72 73 74 75 76 77 78 79 80 81 82 83 84 85 86 87 88 89 90 91 92 93 94 95 96 97 98 99 100 "
     ]
    }
   ],
   "source": [
    "for i in range(1,101):\n",
    "    print(i, end=\" \",)\n",
    "    i += 1"
   ]
  },
  {
   "cell_type": "markdown",
   "metadata": {},
   "source": [
    "## Range loops\n",
    "\n",
    "```python\n",
    "range (start,stop,[step])\n",
    "```\n",
    "\n",
    "If the step is 1, then you don't have to write it."
   ]
  },
  {
   "cell_type": "code",
   "execution_count": 32,
   "metadata": {},
   "outputs": [
    {
     "name": "stdout",
     "output_type": "stream",
     "text": [
      "Enter you name: zach\n",
      "hcaz\n"
     ]
    }
   ],
   "source": [
    "name1 = input(\"Enter you name: \")\n",
    "#for c in range(0,1,1):\n",
    "print(name1[::-1])"
   ]
  },
  {
   "cell_type": "code",
   "execution_count": 36,
   "metadata": {},
   "outputs": [
    {
     "name": "stdout",
     "output_type": "stream",
     "text": [
      "100 99 98 97 96 95 94 93 92 91 90 89 88 87 86 85 84 83 82 81 80 79 78 77 76 75 74 73 72 71 70 69 68 67 66 65 64 63 62 61 60 59 58 57 56 55 54 53 52 51 50 49 48 47 46 45 44 43 42 41 40 39 38 37 36 35 34 33 32 31 30 29 28 27 26 25 24 23 22 21 20 19 18 17 16 15 14 13 12 11 10 9 8 7 6 5 4 3 2 1 "
     ]
    }
   ],
   "source": [
    "for i in range (100,0,-1):\n",
    "    print(i, end=\" \")"
   ]
  },
  {
   "cell_type": "code",
   "execution_count": 16,
   "metadata": {},
   "outputs": [
    {
     "name": "stdout",
     "output_type": "stream",
     "text": [
      "10 9 8 7 6 5 4 3 2 1 blast off\n"
     ]
    }
   ],
   "source": [
    "for i in range (10,0,-1):\n",
    "    print(i, end=\" \")\n",
    "print(\"blast off\")"
   ]
  },
  {
   "cell_type": "code",
   "execution_count": 17,
   "metadata": {},
   "outputs": [
    {
     "name": "stdout",
     "output_type": "stream",
     "text": [
      "0 7 14 21 28 35 42 49 56 63 70 77 84 91 98 "
     ]
    }
   ],
   "source": [
    "for i in range (0,100,7):\n",
    "    print(i, end=\" \")"
   ]
  },
  {
   "cell_type": "code",
   "execution_count": 23,
   "metadata": {},
   "outputs": [
    {
     "name": "stdout",
     "output_type": "stream",
     "text": [
      "0 3 6 9 12 15 18 21 24 27 30 33 36 39 42 45 48 51 54 57 60 63 66 69 72 75 78 81 84 87 90 93 96 99 \n",
      "\n",
      "0 4 8 12 16 20 24 28 32 36 40 44 48 52 56 60 64 68 72 76 80 84 88 92 96 "
     ]
    }
   ],
   "source": [
    "for i in range (0,100,3):\n",
    "    print(i, end=\" \")\n",
    "print(\"\\n\")\n",
    "for i in range (0,100,4):\n",
    "    print(i, end=\" \")"
   ]
  },
  {
   "cell_type": "code",
   "execution_count": 28,
   "metadata": {},
   "outputs": [
    {
     "name": "stdout",
     "output_type": "stream",
     "text": [
      "1 4 9 16 25 36 49 64 81 100 "
     ]
    }
   ],
   "source": [
    "for i in range (1,11,1):\n",
    "    print(i**2, end=\" \")"
   ]
  },
  {
   "cell_type": "markdown",
   "metadata": {},
   "source": [
    "# While (conditional) loops"
   ]
  },
  {
   "cell_type": "code",
   "execution_count": 32,
   "metadata": {},
   "outputs": [
    {
     "name": "stdout",
     "output_type": "stream",
     "text": [
      "Press s to stop: s\n"
     ]
    }
   ],
   "source": [
    "loopVar = \"x\" \n",
    "while loopVar != \"s\":\n",
    "    loopVar = input(\"Press s to stop: \").lower()"
   ]
  },
  {
   "cell_type": "code",
   "execution_count": 59,
   "metadata": {},
   "outputs": [
    {
     "name": "stdout",
     "output_type": "stream",
     "text": [
      "You have not won but you have 4 lives left. \n",
      "You have not won but you have 3 lives left. \n",
      "You have not won but you have 2 lives left. \n",
      "You have not won but you have 1 lives left. \n",
      "You have not won but you have 0 lives left. \n",
      "You are dead. \n"
     ]
    }
   ],
   "source": [
    "from random import randint\n",
    "win = False\n",
    "lives = 5\n",
    "\n",
    "while not win and lives > 0:\n",
    "    lives -= 1\n",
    "    y = randint(1,10)\n",
    "    if y == 10:\n",
    "        win = True\n",
    "        print(\"you have won! \")\n",
    "    else:\n",
    "        print(\"You have not won but you have\", lives, \"lives left. \")\n",
    "        \n",
    "if lives == 0:\n",
    "    print(\"You are dead. \")"
   ]
  },
  {
   "cell_type": "markdown",
   "metadata": {
    "collapsed": true
   },
   "source": [
    "# String Formatting\n",
    "\n"
   ]
  },
  {
   "cell_type": "code",
   "execution_count": 30,
   "metadata": {},
   "outputs": [
    {
     "name": "stdout",
     "output_type": "stream",
     "text": [
      "fred 12\n"
     ]
    }
   ],
   "source": [
    "name = 'fred'\n",
    "age = '12'\n",
    "\n",
    "print('{} {}'.format(name,age))"
   ]
  },
  {
   "cell_type": "code",
   "execution_count": 29,
   "metadata": {},
   "outputs": [
    {
     "name": "stdout",
     "output_type": "stream",
     "text": [
      "12 fred\n"
     ]
    }
   ],
   "source": [
    "name = 'fred'\n",
    "age = '12'\n",
    "\n",
    "print('{1} {0}'.format(name,age))"
   ]
  },
  {
   "cell_type": "markdown",
   "metadata": {},
   "source": [
    "# Lists"
   ]
  },
  {
   "cell_type": "code",
   "execution_count": 52,
   "metadata": {},
   "outputs": [
    {
     "name": "stdout",
     "output_type": "stream",
     "text": [
      "1,4,2,5,6,8,3,2,"
     ]
    }
   ],
   "source": [
    "#printing from a list\n",
    "\n",
    "student1 = [1,4,2,5,6,8,3,2]\n",
    "ls = int(len(student1))\n",
    "for i in student1:\n",
    "    print(i,end=\",\")"
   ]
  },
  {
   "cell_type": "markdown",
   "metadata": {},
   "source": [
    "### Manipulating data in a list"
   ]
  },
  {
   "cell_type": "code",
   "execution_count": 53,
   "metadata": {},
   "outputs": [
    {
     "name": "stdout",
     "output_type": "stream",
     "text": [
      "3.875\n"
     ]
    }
   ],
   "source": [
    "#finding the average\n",
    "count = 0\n",
    "student1 = [1,4,2,5,6,8,3,2]\n",
    "lens = int(len(student1))\n",
    "for i in student1:\n",
    "    count += i\n",
    "ave = count / lens\n",
    "print(ave)"
   ]
  },
  {
   "cell_type": "code",
   "execution_count": 109,
   "metadata": {},
   "outputs": [
    {
     "name": "stdout",
     "output_type": "stream",
     "text": [
      "0\n",
      "2\n",
      "4\n"
     ]
    }
   ],
   "source": [
    "list = [0,1,2,3,4,5]\n",
    "for i in list:\n",
    "    if i % 2 == 0:\n",
    "        print(i)"
   ]
  },
  {
   "cell_type": "code",
   "execution_count": 55,
   "metadata": {},
   "outputs": [
    {
     "name": "stdout",
     "output_type": "stream",
     "text": [
      "1\n"
     ]
    }
   ],
   "source": [
    "r = randint(0,len(list))\n",
    "for i in list:\n",
    "    if i == r:\n",
    "        print(i)"
   ]
  },
  {
   "cell_type": "code",
   "execution_count": 111,
   "metadata": {},
   "outputs": [
    {
     "name": "stdout",
     "output_type": "stream",
     "text": [
      "3\n"
     ]
    }
   ],
   "source": [
    "from random import choice\n",
    "\n",
    "print(choice(list))"
   ]
  },
  {
   "cell_type": "code",
   "execution_count": 56,
   "metadata": {},
   "outputs": [
    {
     "name": "stdout",
     "output_type": "stream",
     "text": [
      "5\n",
      "4\n",
      "3\n",
      "2\n",
      "1\n",
      "0\n"
     ]
    }
   ],
   "source": [
    "for i in reversed(list):\n",
    "    print(i)"
   ]
  },
  {
   "cell_type": "code",
   "execution_count": 57,
   "metadata": {},
   "outputs": [
    {
     "name": "stdout",
     "output_type": "stream",
     "text": [
      "d\n",
      "s\n",
      "o\n"
     ]
    }
   ],
   "source": [
    "words = [\"word\", \"yes\",\"no\"]\n",
    "for i in range(0,len(words)):\n",
    "    print(words[i][-1])"
   ]
  },
  {
   "cell_type": "markdown",
   "metadata": {},
   "source": [
    "## List methods\n",
    "\n",
    "### Appending\n",
    "\n",
    "```python\n",
    "list.append(elem)\n",
    "```\n",
    "Adds a value to the end of a list "
   ]
  },
  {
   "cell_type": "code",
   "execution_count": 58,
   "metadata": {},
   "outputs": [],
   "source": [
    "list1 = [1,2,4,5,6]"
   ]
  },
  {
   "cell_type": "code",
   "execution_count": 59,
   "metadata": {},
   "outputs": [
    {
     "name": "stdout",
     "output_type": "stream",
     "text": [
      "[1, 2, 4, 5, 6, 7]\n"
     ]
    }
   ],
   "source": [
    "list1.append(7)\n",
    "print(list1)"
   ]
  },
  {
   "cell_type": "markdown",
   "metadata": {},
   "source": [
    "### Inserting\n",
    "\n",
    "```python\n",
    "list.insert(position,elem)\n",
    "```\n",
    "Inserts the element at the given index, shifting elements to the right."
   ]
  },
  {
   "cell_type": "code",
   "execution_count": 60,
   "metadata": {},
   "outputs": [
    {
     "name": "stdout",
     "output_type": "stream",
     "text": [
      "[1, 2, 3, 4, 5, 6, 7]\n"
     ]
    }
   ],
   "source": [
    "list1.insert(2,3)\n",
    "print(list1)"
   ]
  },
  {
   "cell_type": "markdown",
   "metadata": {},
   "source": [
    "### Extending\n",
    "\n",
    "```python\n",
    "list.extend(listname) \n",
    "```\n",
    "adds the elements in list2 to the end of the list. Using + or += on a list is similar to using extend()."
   ]
  },
  {
   "cell_type": "code",
   "execution_count": 61,
   "metadata": {},
   "outputs": [
    {
     "name": "stdout",
     "output_type": "stream",
     "text": [
      "[1, 2, 3, 4, 5, 6, 7, 8]\n"
     ]
    }
   ],
   "source": [
    "list2 = [8]\n",
    "list1.extend(list2)\n",
    "print(list1)"
   ]
  },
  {
   "cell_type": "code",
   "execution_count": 62,
   "metadata": {},
   "outputs": [
    {
     "name": "stdout",
     "output_type": "stream",
     "text": [
      "[1, 2, 3, 4, 5, 6, 7, 8, 9]\n"
     ]
    }
   ],
   "source": [
    "list3 = [9]\n",
    "list1 += list3\n",
    "print(list1)"
   ]
  },
  {
   "cell_type": "markdown",
   "metadata": {},
   "source": [
    "### Indexing\n",
    "\n",
    "```python\n",
    "list.index(elem)\n",
    "```\n",
    "Searches for the given element from the start of the list and returns its index. Throws a ValueError if the element does not appear (use \"in\" to check without a ValueError)."
   ]
  },
  {
   "cell_type": "code",
   "execution_count": 63,
   "metadata": {},
   "outputs": [
    {
     "data": {
      "text/plain": [
       "2"
      ]
     },
     "execution_count": 63,
     "metadata": {},
     "output_type": "execute_result"
    }
   ],
   "source": [
    "list1.index(3)"
   ]
  },
  {
   "cell_type": "markdown",
   "metadata": {},
   "source": [
    "### Removing\n",
    "\n",
    "```python\n",
    "list.remove(elem)\n",
    "```\n",
    "Searches for the first instance of the given element and removes it (throws ValueError if not present)"
   ]
  },
  {
   "cell_type": "code",
   "execution_count": 64,
   "metadata": {},
   "outputs": [
    {
     "name": "stdout",
     "output_type": "stream",
     "text": [
      "[1, 2, 3, 4, 5, 6, 7, 8]\n"
     ]
    }
   ],
   "source": [
    "list1.remove(9)\n",
    "print(list1)"
   ]
  },
  {
   "cell_type": "markdown",
   "metadata": {},
   "source": [
    "### Sorting\n",
    "\n",
    "```python\n",
    "list.sort() \n",
    "```\n",
    "Sorts the list in place (does not return it). (The sorted() function shown below is preferred.)"
   ]
  },
  {
   "cell_type": "code",
   "execution_count": 65,
   "metadata": {},
   "outputs": [
    {
     "name": "stdout",
     "output_type": "stream",
     "text": [
      "[0, 1, 2, 3]\n"
     ]
    }
   ],
   "source": [
    "list4 = [1,3,0,2]\n",
    "list4.sort()\n",
    "print(list4)"
   ]
  },
  {
   "cell_type": "markdown",
   "metadata": {},
   "source": [
    "### Reverse\n",
    "\n",
    "```python\n",
    "list.reverse()\n",
    "```\n",
    "Reverses the list in place"
   ]
  },
  {
   "cell_type": "code",
   "execution_count": 66,
   "metadata": {},
   "outputs": [
    {
     "name": "stdout",
     "output_type": "stream",
     "text": [
      "[3, 2, 1, 0]\n"
     ]
    }
   ],
   "source": [
    "list4.reverse()\n",
    "print(list4)"
   ]
  },
  {
   "cell_type": "markdown",
   "metadata": {},
   "source": [
    "### Pop\n",
    "\n",
    "```python\n",
    "list.pop(index)\n",
    "```\n",
    "Removes and returns the element at the given index. If no index is given, it removes the last value."
   ]
  },
  {
   "cell_type": "code",
   "execution_count": 1,
   "metadata": {},
   "outputs": [
    {
     "name": "stdout",
     "output_type": "stream",
     "text": [
      "[1, 2]\n"
     ]
    }
   ],
   "source": [
    "list5 = [0,1,2]\n",
    "list5.pop(0)\n",
    "print(list5)"
   ]
  },
  {
   "cell_type": "code",
   "execution_count": 68,
   "metadata": {},
   "outputs": [
    {
     "name": "stdout",
     "output_type": "stream",
     "text": [
      "[1, 2]\n"
     ]
    }
   ],
   "source": [
    "list6 = [1,2,3]\n",
    "list6.pop()\n",
    "print(list6)"
   ]
  },
  {
   "cell_type": "markdown",
   "metadata": {},
   "source": [
    "#### Exercises"
   ]
  },
  {
   "cell_type": "code",
   "execution_count": 69,
   "metadata": {},
   "outputs": [],
   "source": [
    "temperature = [16,13,12,15,14,12,11,20,12,19,12,12,17,12,12]"
   ]
  },
  {
   "cell_type": "code",
   "execution_count": 71,
   "metadata": {},
   "outputs": [
    {
     "name": "stdout",
     "output_type": "stream",
     "text": [
      "[16, 13, 12, 15, 14, 12, 11, 20, 5, 12, 19, 12, 12, 17, 12, 12]\n"
     ]
    }
   ],
   "source": [
    "#Add a 5 between the 20 and the 12\n",
    "temperature.insert(8,5)\n",
    "print(temperature)"
   ]
  },
  {
   "cell_type": "code",
   "execution_count": 73,
   "metadata": {},
   "outputs": [
    {
     "name": "stdout",
     "output_type": "stream",
     "text": [
      "[16, 13, 12, 15, 14, 12, 11, 20, 5, 12, 19, 12, 12, 17, 12, 12, [7, 7, 7]]\n"
     ]
    }
   ],
   "source": [
    "#Add three 7s to the end of the list\n",
    "temperature.append([7,7,7])\n",
    "print(temperature)"
   ]
  },
  {
   "cell_type": "code",
   "execution_count": 74,
   "metadata": {},
   "outputs": [
    {
     "name": "stdout",
     "output_type": "stream",
     "text": [
      "[16, 13, 12, 15, 14, 12, 20, 5, 12, 19, 12, 12, 17, 12, 12, [7, 7, 7]]\n"
     ]
    }
   ],
   "source": [
    "#Take out the 11\n",
    "temperature.remove(11)\n",
    "print(temperature)"
   ]
  },
  {
   "cell_type": "code",
   "execution_count": 75,
   "metadata": {},
   "outputs": [
    {
     "name": "stdout",
     "output_type": "stream",
     "text": [
      "[17, 13, 12, 15, 14, 12, 20, 5, 12, 19, 12, 12, 17, 12, 12, [7, 7, 7]]\n"
     ]
    }
   ],
   "source": [
    "#Swap the 16 with the 17\n",
    "temperature.pop(0)\n",
    "temperature.insert(0,17)\n",
    "print(temperature)"
   ]
  },
  {
   "cell_type": "code",
   "execution_count": 84,
   "metadata": {},
   "outputs": [
    {
     "name": "stdout",
     "output_type": "stream",
     "text": [
      "[17, 13, 15, 14, 20, 5, 19, 17, [7, 7, 7]]\n"
     ]
    }
   ],
   "source": [
    "#CHALLENGE: Remove all occurences of 12\n",
    "try: \n",
    "    temperature.remove(12)\n",
    "except ValueError:\n",
    "    print(temperature)"
   ]
  },
  {
   "cell_type": "markdown",
   "metadata": {},
   "source": [
    "## Strings"
   ]
  },
  {
   "cell_type": "code",
   "execution_count": 92,
   "metadata": {},
   "outputs": [
    {
     "data": {
      "text/plain": [
       "'THIS IS A STRING'"
      ]
     },
     "execution_count": 92,
     "metadata": {},
     "output_type": "execute_result"
    }
   ],
   "source": [
    "s = \"This is a string\"\n",
    "s.upper()"
   ]
  },
  {
   "cell_type": "code",
   "execution_count": 93,
   "metadata": {},
   "outputs": [
    {
     "data": {
      "text/plain": [
       "'this is a string'"
      ]
     },
     "execution_count": 93,
     "metadata": {},
     "output_type": "execute_result"
    }
   ],
   "source": [
    "s.lower()"
   ]
  },
  {
   "cell_type": "code",
   "execution_count": 96,
   "metadata": {},
   "outputs": [
    {
     "data": {
      "text/plain": [
       "'white space'"
      ]
     },
     "execution_count": 96,
     "metadata": {},
     "output_type": "execute_result"
    }
   ],
   "source": [
    "#removes white space at the start and end of the string\n",
    "st = \" white space \"\n",
    "st.strip()"
   ]
  },
  {
   "cell_type": "markdown",
   "metadata": {},
   "source": [
    "### String checks\n",
    "```python\n",
    "str.isx()\n",
    "```\n",
    "Checks string is present and against a constraint, x can be:\n",
    "- alnum - alphanumerical\n",
    "- alpha - alphabetic\n",
    "- decimal - numbers\n",
    "- lower - lowercase\n",
    "- upper - uppercase\n",
    "- numeric - numerical"
   ]
  },
  {
   "cell_type": "code",
   "execution_count": 99,
   "metadata": {},
   "outputs": [
    {
     "data": {
      "text/plain": [
       "False"
      ]
     },
     "execution_count": 99,
     "metadata": {},
     "output_type": "execute_result"
    }
   ],
   "source": [
    "string = \"string1\"\n",
    "string.isalpha()"
   ]
  },
  {
   "cell_type": "code",
   "execution_count": 101,
   "metadata": {},
   "outputs": [
    {
     "data": {
      "text/plain": [
       "True"
      ]
     },
     "execution_count": 101,
     "metadata": {},
     "output_type": "execute_result"
    }
   ],
   "source": [
    "string.isalnum()"
   ]
  },
  {
   "cell_type": "code",
   "execution_count": 102,
   "metadata": {},
   "outputs": [
    {
     "data": {
      "text/plain": [
       "True"
      ]
     },
     "execution_count": 102,
     "metadata": {},
     "output_type": "execute_result"
    }
   ],
   "source": [
    "string.islower()"
   ]
  }
 ],
 "metadata": {
  "kernelspec": {
   "display_name": "Python 3",
   "language": "python",
   "name": "python3"
  },
  "language_info": {
   "codemirror_mode": {
    "name": "ipython",
    "version": 3
   },
   "file_extension": ".py",
   "mimetype": "text/x-python",
   "name": "python",
   "nbconvert_exporter": "python",
   "pygments_lexer": "ipython3",
   "version": "3.5.2"
  }
 },
 "nbformat": 4,
 "nbformat_minor": 2
}
