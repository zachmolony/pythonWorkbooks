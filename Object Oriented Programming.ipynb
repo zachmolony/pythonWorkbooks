{
 "cells": [
  {
   "cell_type": "markdown",
   "metadata": {},
   "source": [
    "## Object Oriented Programming"
   ]
  },
  {
   "cell_type": "markdown",
   "metadata": {},
   "source": [
    "We use object oriented programming to logically group our data and functions in a way that's easy to reuse and also easy to build upon. \n",
    "\n",
    "We do this by making a class, which is essentially a blueprint for creating an object.\n",
    "\n",
    "We use attributes and methods of those classes. An attribute is data associated with that class and a method is a function associated with that class. "
   ]
  },
  {
   "cell_type": "markdown",
   "metadata": {},
   "source": [
    "### Creating a class"
   ]
  },
  {
   "cell_type": "code",
   "execution_count": null,
   "metadata": {},
   "outputs": [],
   "source": [
    "# creating a class\n",
    "class Employee:\n",
    "    # initialise the object\n",
    "    def __init__(self, first, last, pay):\n",
    "        # the given attributes to the object\n",
    "        self.first = first\n",
    "        self.last = last\n",
    "        self.pay = pay\n",
    "        self.email = first + \".\" + last + \"@email.com\"\n",
    "    \n",
    "    # this is a method\n",
    "    def fullname(self):\n",
    "        return \"{} {}\".format(self.first, self.last)"
   ]
  },
  {
   "cell_type": "markdown",
   "metadata": {},
   "source": [
    "### Instances\n",
    "\n",
    "Using a class, we can create instances of the class which are indivudial objects.\n",
    "\n",
    "To do this we use the attributes, missing the self as it is passed automatically.\n",
    "\n",
    "Note that when printing a function you must use parentheses. "
   ]
  },
  {
   "cell_type": "code",
   "execution_count": null,
   "metadata": {},
   "outputs": [],
   "source": [
    "# creating instances with attributes\n",
    "emp_1 = Employee(\"zach\", \"molony\", 2000)\n",
    "emp_2 = Employee(\"jay\", \"ray\", 3000)\n",
    "\n",
    "# print an instance\n",
    "print(emp_1)\n",
    "\n",
    "# print an attribute\n",
    "print(emp_1.email)\n",
    "\n",
    "# printing the result of a function from a class\n",
    "print(emp_1.fullname())"
   ]
  }
 ],
 "metadata": {
  "kernelspec": {
   "display_name": "Python 3",
   "language": "python",
   "name": "python3"
  }
 },
 "nbformat": 4,
 "nbformat_minor": 2
}
