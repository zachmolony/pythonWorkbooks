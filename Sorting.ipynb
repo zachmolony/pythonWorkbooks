{
 "cells": [
  {
   "cell_type": "markdown",
   "metadata": {},
   "source": [
    "## Bubble sort"
   ]
  },
  {
   "cell_type": "code",
   "execution_count": 41,
   "metadata": {},
   "outputs": [],
   "source": [
    "arr = [8,12,4,52,45,32]\n",
    "\n",
    "def bubbleasc():\n",
    "    for x in range(1, len(arr)):\n",
    "        for i in range(1, len(arr)):\n",
    "            if arr[i] < arr[i-1]:\n",
    "                temp = arr[i-1]\n",
    "                arr[i-1] = arr[i]\n",
    "                arr[i] = temp\n",
    "                print(arr)"
   ]
  },
  {
   "cell_type": "code",
   "execution_count": 42,
   "metadata": {},
   "outputs": [
    {
     "name": "stdout",
     "output_type": "stream",
     "text": [
      "[8, 4, 12, 52, 45, 32]\n",
      "[8, 4, 12, 45, 52, 32]\n",
      "[8, 4, 12, 45, 32, 52]\n",
      "[4, 8, 12, 45, 32, 52]\n",
      "[4, 8, 12, 32, 45, 52]\n"
     ]
    }
   ],
   "source": [
    "bubbleasc()"
   ]
  },
  {
   "cell_type": "code",
   "execution_count": 47,
   "metadata": {},
   "outputs": [],
   "source": [
    "arr = [8,12,4,52,45,32]\n",
    "\n",
    "def bubbledsc():\n",
    "    for x in range(1, len(arr)):\n",
    "        for i in range(1, len(arr)):\n",
    "            if arr[i] > arr[i-1]:\n",
    "                temp = arr[i-1]\n",
    "                arr[i-1] = arr[i]\n",
    "                arr[i] = temp\n",
    "                print(arr)"
   ]
  },
  {
   "cell_type": "code",
   "execution_count": 48,
   "metadata": {},
   "outputs": [
    {
     "name": "stdout",
     "output_type": "stream",
     "text": [
      "[12, 8, 4, 52, 45, 32]\n",
      "[12, 8, 52, 4, 45, 32]\n",
      "[12, 8, 52, 45, 4, 32]\n",
      "[12, 8, 52, 45, 32, 4]\n",
      "[12, 52, 8, 45, 32, 4]\n",
      "[12, 52, 45, 8, 32, 4]\n",
      "[12, 52, 45, 32, 8, 4]\n",
      "[52, 12, 45, 32, 8, 4]\n",
      "[52, 45, 12, 32, 8, 4]\n",
      "[52, 45, 32, 12, 8, 4]\n"
     ]
    }
   ],
   "source": [
    "bubbledsc()"
   ]
  },
  {
   "cell_type": "markdown",
   "metadata": {},
   "source": [
    "## Insertion sort"
   ]
  },
  {
   "cell_type": "code",
   "execution_count": 43,
   "metadata": {},
   "outputs": [],
   "source": [
    "arr = [8,12,4,52,45,32]\n",
    "\n",
    "def insertionasc():\n",
    "    i = 1\n",
    "    while i < len(arr):\n",
    "        j = i\n",
    "        while (j > 0) and (arr[j-1] > arr[j]):\n",
    "            temp = arr[j-1]\n",
    "            arr[j-1] = arr[j]\n",
    "            arr[j] = temp\n",
    "            j -= 1\n",
    "        print(arr)\n",
    "        i += 1    \n",
    "    print(arr)"
   ]
  },
  {
   "cell_type": "code",
   "execution_count": 44,
   "metadata": {},
   "outputs": [
    {
     "name": "stdout",
     "output_type": "stream",
     "text": [
      "[8, 12, 4, 52, 45, 32]\n",
      "[4, 8, 12, 52, 45, 32]\n",
      "[4, 8, 12, 52, 45, 32]\n",
      "[4, 8, 12, 45, 52, 32]\n",
      "[4, 8, 12, 32, 45, 52]\n",
      "[4, 8, 12, 32, 45, 52]\n"
     ]
    }
   ],
   "source": [
    "insertionasc()"
   ]
  },
  {
   "cell_type": "code",
   "execution_count": 45,
   "metadata": {},
   "outputs": [],
   "source": [
    "arr = [8,12,4,52,45,32]\n",
    "\n",
    "def insertiondsc():\n",
    "    i = 1\n",
    "    while i < len(arr):\n",
    "        j = i\n",
    "        while (j > 0) and (arr[j-1] < arr[j]):\n",
    "            temp = arr[j-1]\n",
    "            arr[j-1] = arr[j]\n",
    "            arr[j] = temp\n",
    "            j -= 1\n",
    "        print(arr)\n",
    "        i += 1    \n",
    "    print(arr)"
   ]
  },
  {
   "cell_type": "code",
   "execution_count": 49,
   "metadata": {},
   "outputs": [
    {
     "name": "stdout",
     "output_type": "stream",
     "text": [
      "[52, 45, 32, 12, 8, 4]\n",
      "[52, 45, 32, 12, 8, 4]\n",
      "[52, 45, 32, 12, 8, 4]\n",
      "[52, 45, 32, 12, 8, 4]\n",
      "[52, 45, 32, 12, 8, 4]\n",
      "[52, 45, 32, 12, 8, 4]\n"
     ]
    }
   ],
   "source": [
    "insertiondsc()"
   ]
  },
  {
   "cell_type": "markdown",
   "metadata": {},
   "source": [
    "## Quicksort"
   ]
  },
  {
   "cell_type": "code",
   "execution_count": null,
   "metadata": {},
   "outputs": [],
   "source": []
  }
 ],
 "metadata": {
  "kernelspec": {
   "display_name": "Python 3",
   "language": "python",
   "name": "python3"
  },
  "language_info": {
   "codemirror_mode": {
    "name": "ipython",
    "version": 3
   },
   "file_extension": ".py",
   "mimetype": "text/x-python",
   "name": "python",
   "nbconvert_exporter": "python",
   "pygments_lexer": "ipython3",
   "version": "3.5.2"
  }
 },
 "nbformat": 4,
 "nbformat_minor": 2
}
