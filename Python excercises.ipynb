{
 "cells": [
  {
   "cell_type": "markdown",
   "metadata": {},
   "source": [
    "### Excercise 1\n",
    "\n",
    "Create a program that does 4 types of validation check: data type check, range check, length check and presence check."
   ]
  },
  {
   "cell_type": "code",
   "execution_count": 5,
   "metadata": {},
   "outputs": [
    {
     "name": "stdout",
     "output_type": "stream",
     "text": [
      "Enter an integer (1-5): one\n",
      "Not an integer\n",
      "Enter an integer (1-5): 8\n",
      "Not in range\n",
      "Enter an integer (1-5): 1\n"
     ]
    }
   ],
   "source": [
    "def inputs():\n",
    "    #data type and range check\n",
    "    try:\n",
    "        data = int(input(\"Enter an integer (1-5): \"))\n",
    "        if data < 0 or data > 5:\n",
    "            print(\"Not in range\")\n",
    "            inputs()\n",
    "    except:\n",
    "        print(\"Not an integer\")\n",
    "        inputs()\n",
    "inputs()"
   ]
  },
  {
   "cell_type": "code",
   "execution_count": 8,
   "metadata": {},
   "outputs": [
    {
     "name": "stdout",
     "output_type": "stream",
     "text": [
      "Enter a string that is 5 letters long no\n",
      "Incorrect length\n",
      "Enter a string that is 5 letters long \n",
      "Please enter a value\n",
      "Enter a string that is 5 letters long ggggg\n"
     ]
    }
   ],
   "source": [
    "def inputs():\n",
    "    strinput = input(\"Enter a string that is 5 letters long \")\n",
    "    if len(strinput) == 0:\n",
    "        print(\"Please enter a value\")\n",
    "        inputs()\n",
    "    elif len(strinput) != 5:\n",
    "        print(\"Incorrect length\")\n",
    "        inputs()\n",
    "inputs()"
   ]
  },
  {
   "cell_type": "markdown",
   "metadata": {},
   "source": [
    "### Excercise 2\n",
    "\n",
    "Create a program where a user is asked to enter a number for pounds and a number for pence, e.g. 100 and 6.11. Print the number using formatted print so it shows 2 decimal places with padding if the whole pence figure is a single digit, e.g. in the example above it will only show 100.06"
   ]
  },
  {
   "cell_type": "code",
   "execution_count": 22,
   "metadata": {},
   "outputs": [],
   "source": [
    "def cur(pounds, pence):\n",
    "    float(pence)\n",
    "    pence /= 100\n",
    "    pounds += pence\n",
    "    l = str(pounds).split(\".\")\n",
    "    print(float(l[0]+\".\"+str(l[1][:2])))"
   ]
  },
  {
   "cell_type": "code",
   "execution_count": 23,
   "metadata": {},
   "outputs": [
    {
     "name": "stdout",
     "output_type": "stream",
     "text": [
      "100.06\n"
     ]
    }
   ],
   "source": [
    "cur(100, 6.11)"
   ]
  },
  {
   "cell_type": "markdown",
   "metadata": {},
   "source": [
    "### Excercise 3\n",
    "\n",
    "Create a program that takes a number entered as a string at the keyboard, which has decimal places (e.g. 3.141592) . Your program should then ask for a number of decimal places (e.g. 3). Finally it should ask whether you want to round, or truncate. You will then print the number given the respective inputs, e.g. for 3 decimal places and round it should give 3.142, for 3 decimal places and truncate it should give 3.141."
   ]
  },
  {
   "cell_type": "code",
   "execution_count": 31,
   "metadata": {},
   "outputs": [],
   "source": [
    "def roundORtruncate(num, dig):\n",
    "    choice = input(\"Enter a 1 for truncation or a 2 for round \")\n",
    "    if choice == \"1\":\n",
    "        l = str(num).split(\".\")\n",
    "        print(float(l[0] + \".\" + str(l[1][:dig])))\n",
    "    elif choice == \"2\":\n",
    "        print(round(num, dig))\n",
    "    else:\n",
    "        print(\"not a 1 or 2\")"
   ]
  },
  {
   "cell_type": "code",
   "execution_count": 32,
   "metadata": {},
   "outputs": [
    {
     "name": "stdout",
     "output_type": "stream",
     "text": [
      "Enter a 1 for truncation or a 2 for round 1\n",
      "23.58977\n"
     ]
    }
   ],
   "source": [
    "roundORtruncate(23.589777777778, 5)"
   ]
  },
  {
   "cell_type": "code",
   "execution_count": 33,
   "metadata": {},
   "outputs": [
    {
     "name": "stdout",
     "output_type": "stream",
     "text": [
      "Enter a 1 for truncation or a 2 for round 2\n",
      "23.58978\n"
     ]
    }
   ],
   "source": [
    "roundORtruncate(23.589777777778, 5)"
   ]
  },
  {
   "cell_type": "markdown",
   "metadata": {},
   "source": [
    "### Excercise 4\n",
    "\n",
    "Create  a program that uses the datetime module to calculate how many days until your 21st birthday. You should first enter your date of birth, and from the current date it should be able to calculate the number of days until your 21st and display this."
   ]
  }
 ],
 "metadata": {
  "kernelspec": {
   "display_name": "Python 3",
   "language": "python",
   "name": "python3"
  },
  "language_info": {
   "codemirror_mode": {
    "name": "ipython",
    "version": 3
   },
   "file_extension": ".py",
   "mimetype": "text/x-python",
   "name": "python",
   "nbconvert_exporter": "python",
   "pygments_lexer": "ipython3",
   "version": "3.5.2"
  }
 },
 "nbformat": 4,
 "nbformat_minor": 2
}
