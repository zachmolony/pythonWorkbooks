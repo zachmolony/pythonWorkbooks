{
 "cells": [
  {
   "cell_type": "code",
   "execution_count": 4,
   "metadata": {},
   "outputs": [],
   "source": [
    "VALIDCHOICES = \"ABCE\"\n",
    "def cA():\n",
    "    print(\"A\")\n",
    "def cB():\n",
    "    print(\"B\")\n",
    "def cC():\n",
    "    print(\"C\")\n",
    "def cE():\n",
    "    print(\"E\")\n",
    "def menu():\n",
    "    print(\"choose a b c or e\")\n",
    "    choice = input(\"enter a choice\").upper()\n",
    "    return choice"
   ]
  },
  {
   "cell_type": "code",
   "execution_count": 5,
   "metadata": {},
   "outputs": [
    {
     "name": "stdout",
     "output_type": "stream",
     "text": [
      "choose a b c or e\n",
      "enter a choicee\n",
      "E\n"
     ]
    }
   ],
   "source": [
    "userChoice = menu()\n",
    "if userChoice not in VALIDCHOICES:\n",
    "    print(\"invalid\")\n",
    "elif userChoice == \"A\":\n",
    "    cA()\n",
    "elif userChoice == \"B\":\n",
    "    cB()\n",
    "elif userChoice == \"C\":\n",
    "    cC()\n",
    "elif userChoice == \"E\":\n",
    "    cE()"
   ]
  },
  {
   "cell_type": "code",
   "execution_count": 6,
   "metadata": {},
   "outputs": [
    {
     "name": "stdout",
     "output_type": "stream",
     "text": [
      "choose a b c or e\n",
      "enter a choicee\n",
      "E\n"
     ]
    }
   ],
   "source": [
    "valid = False\n",
    "while not valid:\n",
    "    userChoice = menu()\n",
    "    if userChoice not in VALIDCHOICES:\n",
    "        print(\"try again\")\n",
    "    else:\n",
    "        valid = True\n",
    "        if userChoice == \"A\":\n",
    "            cA()\n",
    "        elif userChoice == \"B\":\n",
    "            cB()\n",
    "        elif userChoice == \"C\":\n",
    "            cC()\n",
    "        elif userChoice == \"E\":\n",
    "            cE()"
   ]
  },
  {
   "cell_type": "code",
   "execution_count": null,
   "metadata": {},
   "outputs": [],
   "source": []
  }
 ],
 "metadata": {
  "kernelspec": {
   "display_name": "Python 3",
   "language": "python",
   "name": "python3"
  },
  "language_info": {
   "codemirror_mode": {
    "name": "ipython",
    "version": 3
   },
   "file_extension": ".py",
   "mimetype": "text/x-python",
   "name": "python",
   "nbconvert_exporter": "python",
   "pygments_lexer": "ipython3",
   "version": "3.5.2"
  }
 },
 "nbformat": 4,
 "nbformat_minor": 2
}
