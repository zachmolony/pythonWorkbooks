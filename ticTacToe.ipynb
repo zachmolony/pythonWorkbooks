{
 "cells": [
  {
   "cell_type": "code",
   "execution_count": null,
   "metadata": {},
   "outputs": [],
   "source": [
    "board = [\" \", \" \", \" \", \" \", \" \", \" \", \" \", \" \", \" \", ]\n",
    "xplayer = \"Zach\"\n",
    "oplayer = \"Aris\"\n",
    "x = True"
   ]
  },
  {
   "cell_type": "code",
   "execution_count": null,
   "metadata": {},
   "outputs": [],
   "source": [
    "def print_my_board():\n",
    "    print(board[:3])\n",
    "    print(board[3:6])\n",
    "    print(board[6:9])\n",
    "    main()"
   ]
  },
  {
   "cell_type": "code",
   "execution_count": null,
   "metadata": {},
   "outputs": [],
   "source": [
    "def main():\n",
    "    global x\n",
    "    x = not x\n",
    "    if x == True:\n",
    "        xmove = int(input(print(xplayer, \"choose a square \")))\n",
    "        board[xmove] = \"x\"\n",
    "    else:\n",
    "        omove = int(input(print(oplayer, \"choose a square \")))\n",
    "        board[omove] = \"o\"\n",
    "    print_my_board()\n",
    "    "
   ]
  },
  {
   "cell_type": "code",
   "execution_count": null,
   "metadata": {},
   "outputs": [],
   "source": [
    "main()"
   ]
  },
  {
   "cell_type": "code",
   "execution_count": null,
   "metadata": {},
   "outputs": [],
   "source": []
  }
 ],
 "metadata": {
  "kernelspec": {
   "display_name": "Python 3",
   "language": "python",
   "name": "python3"
  },
  "language_info": {
   "codemirror_mode": {
    "name": "ipython",
    "version": 3
   },
   "file_extension": ".py",
   "mimetype": "text/x-python",
   "name": "python",
   "nbconvert_exporter": "python",
   "pygments_lexer": "ipython3",
   "version": "3.5.2"
  }
 },
 "nbformat": 4,
 "nbformat_minor": 2
}
